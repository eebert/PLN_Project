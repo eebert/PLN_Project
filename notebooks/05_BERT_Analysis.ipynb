{
 "cells": [
  {
   "cell_type": "code",
   "execution_count": 1,
   "metadata": {},
   "outputs": [
    {
     "name": "stderr",
     "output_type": "stream",
     "text": [
      "2024-01-02 16:53:31,858 - INFO - loading weights file pytorch_model.bin from cache at C:\\Users\\User\\.cache\\huggingface\\hub\\models--mrm8488--bert-spanish-cased-finetuned-ner\\snapshots\\b11721d41d9e948da32fcdabeeef4fb0f3ebcdf7\\pytorch_model.bin\n",
      "2024-01-02 16:53:32,379 - WARNING - Some weights of the model checkpoint at mrm8488/bert-spanish-cased-finetuned-ner were not used when initializing BertForTokenClassification: ['bert.pooler.dense.weight', 'bert.pooler.dense.bias']\n",
      "- This IS expected if you are initializing BertForTokenClassification from the checkpoint of a model trained on another task or with another architecture (e.g. initializing a BertForSequenceClassification model from a BertForPreTraining model).\n",
      "- This IS NOT expected if you are initializing BertForTokenClassification from the checkpoint of a model that you expect to be exactly identical (initializing a BertForSequenceClassification model from a BertForSequenceClassification model).\n",
      "2024-01-02 16:53:32,380 - INFO - All the weights of BertForTokenClassification were initialized from the model checkpoint at mrm8488/bert-spanish-cased-finetuned-ner.\n",
      "If your task is similar to the task the model of the checkpoint was trained on, you can already use BertForTokenClassification for predictions without further training.\n",
      "2024-01-02 16:53:32,383 - INFO - Cargando datos de oraciones desde Excel...\n",
      "2024-01-02 16:53:33,083 - INFO - Realizando NER con BERT...\n"
     ]
    },
    {
     "name": "stdout",
     "output_type": "stream",
     "text": [
      "Procesando: 0/2802 oraciones (0.00%)\n",
      "Procesando: 280/2802 oraciones (9.99%)\n",
      "Entidad 'Instituto Nacional de Donación y Trasplante de  Tejidos' no encontrada en el texto.\n",
      "Entidad 's Solidarias del Ministerio de Educación  de Educación Inicial' no encontrada en el texto.\n",
      "Entidad 'San  de Miraflores' no encontrada en el texto.\n",
      "Entidad 'San  de Miraflores' no encontrada en el texto.\n",
      "Procesando: 560/2802 oraciones (19.99%)\n",
      "Entidad 'aciones Público - Privadas' no encontrada en el texto.\n",
      "Procesando: 840/2802 oraciones (29.98%)\n",
      "Entidad 'Pro - Empleo' no encontrada en el texto.\n",
      "Procesando: 1120/2802 oraciones (39.97%)\n",
      "Procesando: 1400/2802 oraciones (49.96%)\n",
      "Procesando: 1680/2802 oraciones (59.96%)\n",
      "Entidad 'Acuerdo Binacional Perú  Bolivia' no encontrada en el texto.\n",
      "Entidad 'Sistema Integrado de Transporte de Gas  Sur del Perú' no encontrada en el texto.\n",
      "Procesando: 1960/2802 oraciones (69.95%)\n",
      "Entidad 'Aeropuerto Internacional  Chávez' no encontrada en el texto.\n",
      "Procesando: 2240/2802 oraciones (79.94%)\n",
      "Entidad 'Covid - 19' no encontrada en el texto.\n",
      "Entidad 'San  de' no encontrada en el texto.\n",
      "Entidad 'Covid - 19' no encontrada en el texto.\n",
      "Procesando: 2520/2802 oraciones (89.94%)\n",
      "Entidad 'Covid - 19' no encontrada en el texto.\n",
      "Entidad 'Sistema Informático  Perú' no encontrada en el texto.\n",
      "Entidad 'LA  RURAL' no encontrada en el texto.\n",
      "Entidad 'Fondo Agro - Perú' no encontrada en el texto.\n",
      "Entidad 'cal Don Antonio  de Sucre' no encontrada en el texto.\n",
      "Procesando: 2800/2802 oraciones (99.93%)\n",
      "Entidad 'lace de  Huánuco Tocache Celendín Trujillo' no encontrada en el texto.\n",
      "Entidad 'Enlace de  Celendín Piura' no encontrada en el texto.\n",
      "Entidad 'Enlace  Ica Poroma' no encontrada en el texto.\n",
      "Procesamiento completado.\n"
     ]
    },
    {
     "name": "stderr",
     "output_type": "stream",
     "text": [
      "2024-01-02 16:57:13,046 - INFO - Agrupando entidades similares...\n",
      "d:\\TFM_Project\\PLN_Project\\venv\\lib\\site-packages\\sklearn\\cluster\\_kmeans.py:1416: FutureWarning: The default value of `n_init` will change from 10 to 'auto' in 1.4. Set the value of `n_init` explicitly to suppress the warning\n",
      "  super()._check_params_vs_input(X, default_n_init=10)\n",
      "2024-01-02 16:57:13,484 - INFO - Guardando datos de entidades BERT en Excel...\n",
      "2024-01-02 16:57:13,950 - INFO - DataFrame guardado en d:\\TFM_Project\\PLN_Project\\data\\xlsx\\bert_entity.xlsx\n"
     ]
    }
   ],
   "source": [
    "# notebooks/04_BERT_Analysis.ipynb\n",
    "# Importar las bibliotecas necesarias\n",
    "import os\n",
    "import logging\n",
    "import sys\n",
    "import pandas as pd\n",
    "\n",
    "# Configuración del entorno del notebook\n",
    "notebook_dir = os.path.dirname(os.path.abspath(\"__file__\"))\n",
    "project_root = os.path.dirname(notebook_dir)\n",
    "if project_root not in sys.path:\n",
    "    sys.path.insert(0, project_root)\n",
    "\n",
    "from utils.file_utils import read_excel_file, save_data_to_excel\n",
    "from utils.advanced_ner_utils import (\n",
    "    perform_ner_with_bert,\n",
    "    process_sentences_and_extract_entities,\n",
    ")\n",
    "\n",
    "from config import XLSX_DIRECTORY\n",
    "from utils.ner_utils import cluster_entities\n",
    "from transformers import BertTokenizer, BertForTokenClassification\n",
    "\n",
    "# Carga de modelos y tokenizers\n",
    "bert_model_name = \"mrm8488/bert-spanish-cased-finetuned-ner\"\n",
    "bert_tokenizer = BertTokenizer.from_pretrained(bert_model_name)\n",
    "bert_model = BertForTokenClassification.from_pretrained(bert_model_name)\n",
    "\n",
    "\n",
    "def main():\n",
    "    # Cargar los datos de las oraciones desde el archivo Excel\n",
    "    logging.info(\"Cargando datos de oraciones desde Excel...\")\n",
    "    sentence_data = read_excel_file(os.path.join(XLSX_DIRECTORY, \"sentence.xlsx\"))\n",
    "    #sentence_data = read_excel_file(os.path.join(XLSX_DIRECTORY, \"sentence_2.xlsx\"))\n",
    "\n",
    "    # Realizar NER con BERT\n",
    "    logging.info(\"Realizando NER con BERT...\")\n",
    "    bert_entities_df = process_sentences_and_extract_entities(\n",
    "        sentence_data, bert_tokenizer, bert_model, perform_ner_with_bert, \"bert\"\n",
    "    )\n",
    "\n",
    "    # Convertir DataFrame de entidades a lista de diccionarios para el clustering\n",
    "    bert_entities_df = bert_entities_df.to_dict(\"records\")\n",
    "\n",
    "    # Opcional: Agrupar entidades similares con K-means\n",
    "    logging.info(\"Agrupando entidades similares...\")\n",
    "    bert_entities_df = cluster_entities(bert_entities_df, num_clusters=10)\n",
    "\n",
    "    # Guardar los datos de entidades BERT en un nuevo archivo Excel\n",
    "    logging.info(\"Guardando datos de entidades BERT en Excel...\")\n",
    "    save_data_to_excel(bert_entities_df, XLSX_DIRECTORY, \"bert_entity.xlsx\")\n",
    "\n",
    "\n",
    "if __name__ == \"__main__\":\n",
    "    main()"
   ]
  },
  {
   "cell_type": "code",
   "execution_count": 3,
   "metadata": {},
   "outputs": [],
   "source": [
    "# pip install transformers\n",
    "# pip install torch torchvision torchaudio --extra-index-url https://download.pytorch.org/whl/cu111"
   ]
  }
 ],
 "metadata": {
  "kernelspec": {
   "display_name": "venv",
   "language": "python",
   "name": "python3"
  },
  "language_info": {
   "codemirror_mode": {
    "name": "ipython",
    "version": 3
   },
   "file_extension": ".py",
   "mimetype": "text/x-python",
   "name": "python",
   "nbconvert_exporter": "python",
   "pygments_lexer": "ipython3",
   "version": "3.9.13"
  }
 },
 "nbformat": 4,
 "nbformat_minor": 2
}
