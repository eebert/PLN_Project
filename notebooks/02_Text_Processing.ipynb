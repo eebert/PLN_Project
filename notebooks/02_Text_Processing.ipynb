{
 "cells": [
  {
   "cell_type": "code",
   "execution_count": 2,
   "metadata": {},
   "outputs": [
    {
     "name": "stderr",
     "output_type": "stream",
     "text": [
      "2024-01-02 10:10:17,196 - INFO - Cargando datos de los discursos desde Excel...\n",
      "2024-01-02 10:10:17,267 - INFO - Procesando oraciones y guardando información en Excel...\n",
      "2024-01-02 10:10:18,427 - INFO - DataFrame guardado en d:\\TFM_Project\\PLN_Project\\data\\xlsx\\sentence.xlsx\n"
     ]
    }
   ],
   "source": [
    "# notebooks/02_Text_Processing.ipynb\n",
    "# Importaciones\n",
    "import os\n",
    "import sys\n",
    "import logging\n",
    "\n",
    "# Configuración del entorno del notebook\n",
    "notebook_dir = os.path.dirname(os.path.abspath(\"__file__\"))\n",
    "project_root = os.path.dirname(notebook_dir)\n",
    "\n",
    "# Añadir el directorio raíz del proyecto a sys.path para importaciones\n",
    "if project_root not in sys.path:\n",
    "    sys.path.insert(0, project_root)\n",
    "\n",
    "from initialize import set_global_logging  # Importa la función de configuración de logging global\n",
    "from config import XLSX_DIRECTORY\n",
    "from utils.file_utils import read_excel_file, save_data_to_excel\n",
    "from utils.text_processing_utils import process_sentence\n",
    "\n",
    "# Configurar logging globalmente\n",
    "set_global_logging()\n",
    "\n",
    "def main():\n",
    "    # Cargar los datos de los discursos desde el archivo Excel\n",
    "    logging.info(\"Cargando datos de los discursos desde Excel...\")\n",
    "    speech_data = read_excel_file(os.path.join(XLSX_DIRECTORY, \"speech.xlsx\"))\n",
    "\n",
    "    # Procesar oraciones y guardar la información en Excel\n",
    "    logging.info(\"Procesando oraciones y guardando información en Excel...\")\n",
    "    sentence_data = process_sentence(speech_data)\n",
    "    save_data_to_excel(sentence_data, XLSX_DIRECTORY, \"sentence.xlsx\")\n",
    "\n",
    "# Ejecutar el proceso principal\n",
    "if __name__ == \"__main__\":\n",
    "    main()\n",
    "\n"
   ]
  },
  {
   "cell_type": "code",
   "execution_count": 1,
   "metadata": {},
   "outputs": [],
   "source": [
    "# Instalaciones requeridas\n",
    "# pip install nltk\n",
    "# pip install spacy\n",
    "# pip install pdfplumber\n",
    "# pip install PyPDF2"
   ]
  }
 ],
 "metadata": {
  "kernelspec": {
   "display_name": "venv",
   "language": "python",
   "name": "python3"
  },
  "language_info": {
   "codemirror_mode": {
    "name": "ipython",
    "version": 3
   },
   "file_extension": ".py",
   "mimetype": "text/x-python",
   "name": "python",
   "nbconvert_exporter": "python",
   "pygments_lexer": "ipython3",
   "version": "3.9.13"
  }
 },
 "nbformat": 4,
 "nbformat_minor": 2
}
