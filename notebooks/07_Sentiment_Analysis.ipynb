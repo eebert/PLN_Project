{
 "cells": [
  {
   "cell_type": "code",
   "execution_count": 1,
   "metadata": {},
   "outputs": [],
   "source": [
    "# notebooks/06_Analisis_de_Sentimientos.ipynb\n",
    "import os\n",
    "import logging\n",
    "import sys\n",
    "import pandas as pd\n",
    "# Configuración del entorno del notebook\n",
    "notebook_dir = os.path.dirname(os.path.abspath(\"__file__\"))\n",
    "project_root = os.path.dirname(notebook_dir)\n",
    "if project_root not in sys.path:\n",
    "    sys.path.insert(0, project_root)\n",
    "    \n",
    "from vaderSentiment.vaderSentiment import SentimentIntensityAnalyzer\n",
    "from utils.file_utils import read_excel_file, save_data_to_excel\n",
    "from config import XLSX_DIRECTORY\n",
    "\n",
    "def analyze_sentiment_vader(sentence):\n",
    "    sentiment_analyzer = SentimentIntensityAnalyzer()\n",
    "    sentiment_score = sentiment_analyzer.polarity_scores(sentence)\n",
    "    return sentiment_score['compound']  # Devuelve la puntuación compuesta\n",
    "\n",
    "def main():\n",
    "    # Cargar los datos de las oraciones desde el archivo Excel\n",
    "    logging.info(\"Cargando datos de oraciones desde Excel para análisis de sentimientos...\")\n",
    "    sentence_data = read_excel_file(os.path.join(XLSX_DIRECTORY, \"sentence.xlsx\"))\n",
    "\n",
    "    # Preparar DataFrame para los resultados del análisis de sentimientos\n",
    "    sentiment_df = pd.DataFrame(columns=[\"id_sentiment\", \"id_sentence\",  \"sentiment_score\"])\n",
    "\n",
    "    # Realizar análisis de sentimientos\n",
    "    logging.info(\"Realizando análisis de sentimientos...\")\n",
    "    for index, row in sentence_data.iterrows():\n",
    "        sentence = str(row[\"sentence_clean\"])  # Convertir a cadena de texto\n",
    "        sentiment_score = analyze_sentiment_vader(sentence)\n",
    "        sentiment_df.loc[index] = [index + 1, row[\"id_sentence\"], sentiment_score]  # index + 1 para iniciar en 1\n",
    "\n",
    "    # Guardar los resultados del análisis de sentimientos en un nuevo archivo Excel\n",
    "    logging.info(\"Guardando resultados del análisis de sentimientos en Excel...\")\n",
    "    save_data_to_excel(sentiment_df, XLSX_DIRECTORY, \"sentiment.xlsx\")\n",
    "\n",
    "if __name__ == \"__main__\":\n",
    "    main()"
   ]
  },
  {
   "cell_type": "code",
   "execution_count": null,
   "metadata": {},
   "outputs": [],
   "source": [
    "#pip install vaderSentiment\n"
   ]
  }
 ],
 "metadata": {
  "kernelspec": {
   "display_name": "venv",
   "language": "python",
   "name": "python3"
  },
  "language_info": {
   "codemirror_mode": {
    "name": "ipython",
    "version": 3
   },
   "file_extension": ".py",
   "mimetype": "text/x-python",
   "name": "python",
   "nbconvert_exporter": "python",
   "pygments_lexer": "ipython3",
   "version": "3.9.13"
  }
 },
 "nbformat": 4,
 "nbformat_minor": 2
}
