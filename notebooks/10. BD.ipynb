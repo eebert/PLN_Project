{
 "cells": [
  {
   "cell_type": "code",
   "execution_count": null,
   "metadata": {},
   "outputs": [],
   "source": [
    "# Instalaciones requeridas\n",
    "# pip install nbformat\n",
    "#pip install pandas mysql-connector-python\n"
   ]
  },
  {
   "cell_type": "code",
   "execution_count": 5,
   "metadata": {},
   "outputs": [
    {
     "name": "stdout",
     "output_type": "stream",
     "text": [
      "Datos insertados en la tabla dim_ner_tag.\n",
      "Registros eliminados y contador de identidad reseteado en la tabla fact_entity_sentiment.\n",
      "Registros eliminados y contador de identidad reseteado en la tabla dim_entity.\n",
      "Registros eliminados y contador de identidad reseteado en la tabla dim_sentiment.\n",
      "Registros eliminados y contador de identidad reseteado en la tabla dim_sentence.\n",
      "Registros eliminados y contador de identidad reseteado en la tabla dim_speech.\n",
      "Datos insertados en la tabla dim_speech.\n",
      "Datos insertados en la tabla dim_sentence.\n",
      "Datos insertados en la tabla dim_sentiment.\n",
      "Datos de BERT insertados en la tabla entity_analysis.\n",
      "Datos de NER insertados en la tabla entity_analysis.\n",
      "Datos de ROBERTA insertados en la tabla entity_analysis.\n"
     ]
    }
   ],
   "source": [
    "# 10_bd.ipynb\n",
    "import sys\n",
    "import pandas as pd\n",
    "import sqlalchemy\n",
    "from sqlalchemy import create_engine, text\n",
    "import os\n",
    "\n",
    "# Configuración del entorno del notebook\n",
    "notebook_dir = os.path.dirname(os.path.abspath(\"__file__\"))\n",
    "project_root = os.path.dirname(notebook_dir)\n",
    "sys.path.insert(0, project_root) if project_root not in sys.path else None\n",
    "from config import XLSX_DIRECTORY\n",
    "\n",
    "# Cadena de conexión para SQL Server con autenticación de Windows\n",
    "connection_string = 'mssql+pyodbc://@DESKTOP-KP6A2O7/NER?driver=ODBC+Driver+17+for+SQL+Server&Trusted_Connection=yes'\n",
    "engine = create_engine(connection_string)\n",
    "\n",
    "\n",
    "\n",
    "\n",
    "# Insertar registros en la tabla ner_tag si no existen previamente\n",
    "df_ner_tag = pd.read_excel(os.path.join(XLSX_DIRECTORY, \"ner_tag.xlsx\"))\n",
    "existing_tags = pd.read_sql('SELECT tag FROM dim_ner_tag', con=engine)\n",
    "df_ner_tag = df_ner_tag[~df_ner_tag['tag'].isin(existing_tags['tag'])]\n",
    "df_ner_tag.to_sql('dim_ner_tag', con=engine, if_exists='append', index=False)\n",
    "print(\"Datos insertados en la tabla dim_ner_tag.\")\n",
    "\n",
    "# Eliminar registros y resetear identidades de las tablas especificadas\n",
    "tablas = ['fact_entity_sentiment', 'dim_entity', 'dim_sentiment', 'dim_sentence', 'dim_speech']\n",
    "for tabla in tablas:\n",
    "    with engine.connect() as conn:\n",
    "        trans = conn.begin()\n",
    "        try:\n",
    "            conn.execute(text(f\"DELETE FROM {tabla}\"))\n",
    "            conn.execute(text(f\"DBCC CHECKIDENT ('{tabla}', RESEED, 0)\"))\n",
    "            trans.commit()\n",
    "            print(f\"Registros eliminados y contador de identidad reseteado en la tabla {tabla}.\")\n",
    "        except Exception as e:\n",
    "            trans.rollback()\n",
    "            print(f\"Error al eliminar registros de la tabla {tabla}: {e}\")\n",
    "\n",
    "# Insertar registros en las tablas speech, sentence, y sentiment\n",
    "dataframes_y_tablas = [\n",
    "    ('speech.xlsx', 'dim_speech', 'id_speech'),\n",
    "    ('sentence.xlsx', 'dim_sentence', 'id_sentence'),\n",
    "    ('sentiment.xlsx', 'dim_sentiment', 'id_sentiment')\n",
    "]\n",
    "for archivo, tabla, columna_id in dataframes_y_tablas:\n",
    "    try:\n",
    "        df = pd.read_excel(os.path.join(XLSX_DIRECTORY, archivo))\n",
    "        if columna_id and columna_id in df.columns:\n",
    "            df = df.drop(columns=[columna_id])\n",
    "        df.to_sql(tabla, con=engine, if_exists='append', index=False)\n",
    "        print(f\"Datos insertados en la tabla {tabla}.\")\n",
    "    except Exception as e:\n",
    "        print(f\"Ocurrió un error al procesar el archivo {archivo} para la tabla {tabla}: {e}\")\n",
    "\n",
    "\n",
    "# Insertar registros en la tabla entity_analysis\n",
    "columnas_entity = ['id_sentence', 'context', 'tag', 'raw_entity', 'entity', 'entity_cluster']\n",
    "modelos_y_archivos = [\n",
    "    ('bert_entity.xlsx', 'BERT'),\n",
    "    ('ner_entity.xlsx', 'NER'),\n",
    "    ('roberta_entity.xlsx', 'ROBERTA'),\n",
    "]\n",
    "for archivo, modelo in modelos_y_archivos:\n",
    "    df = pd.read_excel(os.path.join(XLSX_DIRECTORY, archivo))\n",
    "    df = df[columnas_entity]\n",
    "    df['model'] = modelo\n",
    "    df.to_sql('dim_entity', con=engine, if_exists='append', index=False)\n",
    "    print(f\"Datos de {modelo} insertados en la tabla entity_analysis.\")"
   ]
  }
 ],
 "metadata": {
  "kernelspec": {
   "display_name": "venv",
   "language": "python",
   "name": "python3"
  },
  "language_info": {
   "codemirror_mode": {
    "name": "ipython",
    "version": 3
   },
   "file_extension": ".py",
   "mimetype": "text/x-python",
   "name": "python",
   "nbconvert_exporter": "python",
   "pygments_lexer": "ipython3",
   "version": "3.9.13"
  }
 },
 "nbformat": 4,
 "nbformat_minor": 2
}
