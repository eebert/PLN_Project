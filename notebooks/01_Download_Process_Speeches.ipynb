{
 "cells": [
  {
   "cell_type": "code",
   "execution_count": 2,
   "metadata": {},
   "outputs": [
    {
     "name": "stderr",
     "output_type": "stream",
     "text": [
      "2024-01-02 10:10:00,770 - INFO - Iniciando descarga de archivos PDF...\n",
      "2024-01-02 10:10:01,702 - INFO - Existing files skipped: ['Argentina_2022_Alberto_Fernandez.pdf', 'Argentina_2023_Javier_Milei.pdf', 'Colombia_2021_Ivan_Duque.pdf', 'Colombia_2022_Gustavo_Petro.pdf', 'Peru_2014_Ollanta_Humala.pdf', 'Peru_2015_Ollanta_Humala.pdf', 'Peru_2016_Pedro_Kuczynski.pdf', 'Peru_2017_Pedro_Kuczynski.pdf', 'Peru_2018_Martin_Vizcarra.pdf', 'Peru_2019_Martin_Vizcarra.pdf', 'Peru_2020_Martin_Vizcarra.pdf', 'Peru_2021_Pedro_Castillo.pdf', 'Peru_2022_Pedro_Castillo.pdf', 'Peru_2023_Dina_Boluarte.pdf']\n",
      "2024-01-02 10:10:01,703 - INFO - Procesando archivos PDF y guardando textos...\n",
      "2024-01-02 10:10:01,704 - INFO - Existing text files skipped: ['Argentina_2022_Alberto_Fernandez.txt', 'Argentina_2023_Javier_Milei.txt', 'Colombia_2021_Ivan_Duque.txt', 'Colombia_2022_Gustavo_Petro.txt', 'Peru_2014_Ollanta_Humala.txt', 'Peru_2015_Ollanta_Humala.txt', 'Peru_2016_Pedro_Kuczynski.txt', 'Peru_2017_Pedro_Kuczynski.txt', 'Peru_2018_Martin_Vizcarra.txt', 'Peru_2019_Martin_Vizcarra.txt', 'Peru_2020_Martin_Vizcarra.txt', 'Peru_2021_Pedro_Castillo.txt', 'Peru_2022_Pedro_Castillo.txt', 'Peru_2023_Dina_Boluarte.txt']\n",
      "2024-01-02 10:10:01,705 - INFO - Procesando discursos y guardando información en Excel...\n",
      "2024-01-02 10:10:01,776 - INFO - DataFrame guardado en d:\\TFM_Project\\PLN_Project\\data\\xlsx\\speech.xlsx\n"
     ]
    }
   ],
   "source": [
    "# notebooks/01_Download_Process_Speeches\n",
    "# Importaciones\n",
    "import os\n",
    "import sys\n",
    "import logging  # Importa logging\n",
    "\n",
    "# Configuración del entorno del notebook\n",
    "notebook_dir = os.path.dirname(os.path.abspath(\"__file__\"))\n",
    "project_root = os.path.dirname(notebook_dir)\n",
    "\n",
    "# Añadir el directorio raíz del proyecto a sys.path para importaciones\n",
    "if project_root not in sys.path:\n",
    "    sys.path.insert(0, project_root)\n",
    "\n",
    "from initialize import set_global_logging  # Importa la función de configuración de logging global\n",
    "from config import TEXT_DIRECTORY, XLSX_DIRECTORY, PDF_DIRECTORY\n",
    "from utils.file_utils import (\n",
    "    initialize_blob_client,\n",
    "    download_all_pdf_files_from_pdf_directory,\n",
    "    process_pdfs_in_directory,\n",
    "    save_data_to_excel,\n",
    ")\n",
    "from utils.text_processing_utils import process_speeches\n",
    "\n",
    "# Configurar logging globalmente\n",
    "set_global_logging()\n",
    "\n",
    "# Proceso principal\n",
    "def main():\n",
    "    # Inicializar cliente de Azure Blob Storage\n",
    "    blob_client = initialize_blob_client()\n",
    "\n",
    "    # Descargar archivos PDF desde Azure Blob Storage\n",
    "    logging.info(\"Iniciando descarga de archivos PDF...\")\n",
    "    download_all_pdf_files_from_pdf_directory(blob_client)\n",
    "\n",
    "    # Procesar archivos PDF y guardar textos\n",
    "    logging.info(\"Procesando archivos PDF y guardando textos...\")\n",
    "    process_pdfs_in_directory(PDF_DIRECTORY, TEXT_DIRECTORY)\n",
    "\n",
    "    # Procesar discursos y guardar la información en Excel\n",
    "    logging.info(\"Procesando discursos y guardando información en Excel...\")\n",
    "    speech_data = process_speeches(TEXT_DIRECTORY)\n",
    "    save_data_to_excel(speech_data, XLSX_DIRECTORY, \"speech.xlsx\")\n",
    "\n",
    "\n",
    "# Ejecutar el proceso principal\n",
    "if __name__ == \"__main__\":\n",
    "    main()"
   ]
  },
  {
   "cell_type": "code",
   "execution_count": null,
   "metadata": {},
   "outputs": [],
   "source": [
    "# Instalaciones requeridas\n",
    "# pip install azure-storage-blob"
   ]
  }
 ],
 "metadata": {
  "kernelspec": {
   "display_name": "venv",
   "language": "python",
   "name": "python3"
  },
  "language_info": {
   "codemirror_mode": {
    "name": "ipython",
    "version": 3
   },
   "file_extension": ".py",
   "mimetype": "text/x-python",
   "name": "python",
   "nbconvert_exporter": "python",
   "pygments_lexer": "ipython3",
   "version": "3.9.13"
  }
 },
 "nbformat": 4,
 "nbformat_minor": 2
}
