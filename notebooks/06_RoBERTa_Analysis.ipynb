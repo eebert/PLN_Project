{
 "cells": [
  {
   "cell_type": "code",
   "execution_count": 1,
   "metadata": {},
   "outputs": [
    {
     "name": "stderr",
     "output_type": "stream",
     "text": [
      "2024-01-02 16:58:15,747 - INFO - loading weights file pytorch_model.bin from cache at C:\\Users\\User\\.cache\\huggingface\\hub\\models--PlanTL-GOB-ES--roberta-large-bne-capitel-ner\\snapshots\\87b8cbf77bf17db1e79441f5cb0c1a1ab4bf40bf\\pytorch_model.bin\n",
      "2024-01-02 16:58:19,983 - INFO - All model checkpoint weights were used when initializing RobertaForTokenClassification.\n",
      "\n",
      "2024-01-02 16:58:20,050 - INFO - All the weights of RobertaForTokenClassification were initialized from the model checkpoint at PlanTL-GOB-ES/roberta-large-bne-capitel-ner.\n",
      "If your task is similar to the task the model of the checkpoint was trained on, you can already use RobertaForTokenClassification for predictions without further training.\n",
      "2024-01-02 16:58:20,159 - INFO - Cargando datos de oraciones desde Excel...\n",
      "2024-01-02 16:58:22,202 - INFO - Realizando NER con RoBERTa...\n"
     ]
    },
    {
     "name": "stdout",
     "output_type": "stream",
     "text": [
      "Procesando: 0/2802 oraciones (0.00%)\n",
      "Entidad 'El del' no encontrada en el texto.\n",
      "Procesando: 280/2802 oraciones (9.99%)\n",
      "Entidad 'Tumbes Piura Chiclayo Trujillo Ica Arequipaac' no encontrada en el texto.\n",
      "Entidad 'Dirección de Seguridad Ciudadana Lucha contra el Tráfico de Terrenos Crimen Protección de Obras Civiles eas' no encontrada en el texto.\n",
      "Entidad 'Comunidadestivas' no encontrada en el texto.\n",
      "Entidad 'Pampat' no encontrada en el texto.\n",
      "Entidad 'Ley deervación de' no encontrada en el texto.\n",
      "Entidad 'Juegosamericanos' no encontrada en el texto.\n",
      "Entidad 'Jesús Raúlch' no encontrada en el texto.\n",
      "Entidad 'Rio Seco Elorcado División' no encontrada en el texto.\n",
      "Procesando: 560/2802 oraciones (19.99%)\n",
      "Entidad 'Techopio' no encontrada en el texto.\n",
      "Entidad 'Arequipa Moqueguaac' no encontrada en el texto.\n",
      "Entidad 'Abancaylas Huamanga Huantaancaica Jaujaancayouscocauno Quillabamba' no encontrada en el texto.\n",
      "Entidad 'Fondo de Inclusión Socialético' no encontrada en el texto.\n",
      "Entidad 'Sistema de Transmisiónico' no encontrada en el texto.\n",
      "Entidad 'Primerataria' no encontrada en el texto.\n",
      "Entidad 'Fuerza del' no encontrada en el texto.\n",
      "Entidad 'Oficial de Mar Primerozo de' no encontrada en el texto.\n",
      "Entidad 'Piurabes Olmos' no encontrada en el texto.\n",
      "Procesando: 840/2802 oraciones (29.98%)\n",
      "Procesando: 1120/2802 oraciones (39.97%)\n",
      "Procesando: 1400/2802 oraciones (49.96%)\n",
      "Procesando: 1680/2802 oraciones (59.96%)\n",
      "Entidad 'Forestalicultura' no encontrada en el texto.\n",
      "Entidad 'Ferrocarrilancayo' no encontrada en el texto.\n",
      "Entidad 'Tumbes Piura Lambaque Lima Ica Arequipa' no encontrada en el texto.\n",
      "Entidad 'Comercio y' no encontrada en el texto.\n",
      "Entidad 'Apurímacuno' no encontrada en el texto.\n",
      "Procesando: 1960/2802 oraciones (69.95%)\n",
      "Entidad 'Huica' no encontrada en el texto.\n",
      "Entidad 'Huancanéángaro' no encontrada en el texto.\n",
      "Entidad 'Instituto Regional de Enfermedadesplásicas' no encontrada en el texto.\n",
      "Entidad 'San Martin Ayacuchoquegua Loreto Pascouno' no encontrada en el texto.\n",
      "Entidad 'Lineamientos para la Promoción y Protección de la Alimentaciónable' no encontrada en el texto.\n",
      "Entidad 'Institucionestivas' no encontrada en el texto.\n",
      "Entidad 'Instituto Regional de Enfermedadesplásicas' no encontrada en el texto.\n",
      "Entidad 'Ayacucho Punoancavelica' no encontrada en el texto.\n",
      "Entidad 'Huánucouscoura Pascoín Lima' no encontrada en el texto.\n",
      "Procesando: 2240/2802 oraciones (79.94%)\n",
      "Entidad 'Bono Familiaritacional Crédito Mi Vivienda Vivienda' no encontrada en el texto.\n",
      "Entidad 'Techopio' no encontrada en el texto.\n",
      "Entidad 'Policía del' no encontrada en el texto.\n",
      "Procesando: 2520/2802 oraciones (89.94%)\n",
      "Entidad 'Política Nacionalec' no encontrada en el texto.\n",
      "Entidad 'Ayacucho Cuscocayalianca' no encontrada en el texto.\n",
      "Entidad 'Amazonas Áncash Apurícyacuchoarcauco' no encontrada en el texto.\n",
      "Entidad 'Lato Piura' no encontrada en el texto.\n",
      "Entidad 'Recuperación de losizajes' no encontrada en el texto.\n",
      "Entidad 'Agustín Gamarra José de la Mar José Maríado Jacinto' no encontrada en el texto.\n",
      "Entidad 'Guillainré' no encontrada en el texto.\n",
      "Entidad 'Gran Cruzada contra El Niño Señor' no encontrada en el texto.\n",
      "Entidad 'Plantis' no encontrada en el texto.\n",
      "Entidad 'Sistemas Alternativos de Recolección ycuación' no encontrada en el texto.\n",
      "Entidad 'Arequipayacucho' no encontrada en el texto.\n",
      "Procesando: 2800/2802 oraciones (99.93%)\n"
     ]
    },
    {
     "name": "stderr",
     "output_type": "stream",
     "text": [
      "2024-01-02 17:13:16,494 - INFO - Agrupando entidades similares...\n"
     ]
    },
    {
     "name": "stdout",
     "output_type": "stream",
     "text": [
      "Procesamiento completado.\n"
     ]
    },
    {
     "name": "stderr",
     "output_type": "stream",
     "text": [
      "d:\\TFM_Project\\PLN_Project\\venv\\lib\\site-packages\\sklearn\\cluster\\_kmeans.py:1416: FutureWarning: The default value of `n_init` will change from 10 to 'auto' in 1.4. Set the value of `n_init` explicitly to suppress the warning\n",
      "  super()._check_params_vs_input(X, default_n_init=10)\n",
      "2024-01-02 17:13:17,079 - INFO - Guardando datos de entidades RoBERTa en Excel...\n",
      "2024-01-02 17:13:18,171 - INFO - DataFrame guardado en d:\\TFM_Project\\PLN_Project\\data\\xlsx\\roberta_entity.xlsx\n"
     ]
    }
   ],
   "source": [
    "# notebooks/05_RoBERTa.ipynb\n",
    "# Importar las bibliotecas necesarias\n",
    "import os\n",
    "import logging\n",
    "import sys\n",
    "import pandas as pd\n",
    "\n",
    "# Configuración del entorno del notebook\n",
    "notebook_dir = os.path.dirname(os.path.abspath(\"__file__\"))\n",
    "project_root = os.path.dirname(notebook_dir)\n",
    "if project_root not in sys.path:\n",
    "    sys.path.insert(0, project_root)\n",
    "\n",
    "from utils.file_utils import read_excel_file, save_data_to_excel\n",
    "from utils.advanced_ner_utils import perform_ner_with_roberta, process_sentences_and_extract_entities\n",
    "from config import XLSX_DIRECTORY\n",
    "from utils.ner_utils import cluster_entities\n",
    "from transformers import AutoTokenizer, AutoModelForTokenClassification\n",
    "\n",
    "\n",
    "# Carga de modelos y tokenizers\n",
    "roberta_model_name = \"PlanTL-GOB-ES/roberta-large-bne-capitel-ner\"\n",
    "roberta_tokenizer = AutoTokenizer.from_pretrained(roberta_model_name)\n",
    "roberta_model = AutoModelForTokenClassification.from_pretrained(roberta_model_name)\n",
    "\n",
    "\n",
    "def main():\n",
    "    # Cargar los datos de las oraciones desde el archivo Excel\n",
    "    logging.info(\"Cargando datos de oraciones desde Excel...\")\n",
    "    sentence_data = read_excel_file(os.path.join(XLSX_DIRECTORY, \"sentence.xlsx\"))\n",
    "    #sentence_data = read_excel_file(os.path.join(XLSX_DIRECTORY, \"sentence_2.xlsx\"))\n",
    "\n",
    "    # Realizar NER con RoBERTa\n",
    "    logging.info(\"Realizando NER con RoBERTa...\")\n",
    "    roberta_entities_df = process_sentences_and_extract_entities(\n",
    "        sentence_data, \n",
    "        roberta_tokenizer, \n",
    "        roberta_model, \n",
    "        perform_ner_with_roberta,\n",
    "        \"roberta\"\n",
    "    )\n",
    "\n",
    "    # Convertir DataFrame de entidades a lista de diccionarios para el clustering\n",
    "    roberta_entities_df = roberta_entities_df.to_dict(\"records\")\n",
    "\n",
    "    # Opcional: Agrupar entidades similares con K-means\n",
    "    logging.info(\"Agrupando entidades similares...\")\n",
    "    roberta_entities_df = cluster_entities(roberta_entities_df, num_clusters=10)\n",
    "\n",
    "    # Guardar los datos de entidades RoBERTa en un nuevo archivo Excel\n",
    "    logging.info(\"Guardando datos de entidades RoBERTa en Excel...\")\n",
    "    save_data_to_excel(roberta_entities_df, XLSX_DIRECTORY, \"roberta_entity.xlsx\")\n",
    "\n",
    "\n",
    "if __name__ == \"__main__\":\n",
    "    main()"
   ]
  }
 ],
 "metadata": {
  "kernelspec": {
   "display_name": "venv",
   "language": "python",
   "name": "python3"
  },
  "language_info": {
   "codemirror_mode": {
    "name": "ipython",
    "version": 3
   },
   "file_extension": ".py",
   "mimetype": "text/x-python",
   "name": "python",
   "nbconvert_exporter": "python",
   "pygments_lexer": "ipython3",
   "version": "3.9.13"
  }
 },
 "nbformat": 4,
 "nbformat_minor": 2
}
