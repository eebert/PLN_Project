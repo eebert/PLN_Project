{
 "cells": [
  {
   "cell_type": "code",
   "execution_count": 2,
   "metadata": {},
   "outputs": [
    {
     "name": "stderr",
     "output_type": "stream",
     "text": [
      "2024-01-28 22:15:10,914 - INFO - Iniciando descarga de archivos PDF...\n",
      "2024-01-28 22:15:12,176 - INFO - Existing files skipped: ['Argentina_2022_Alberto_Fernandez.pdf', 'Argentina_2023_Javier_Milei.pdf', 'Bolivia_2017_Evo_Morales.pdf', 'Bolivia_2018_Evo_Morales.pdf', 'Bolivia_2019_Evo_Morales.pdf', 'Bolivia_2020_Jeanine_Añez.pdf', 'Bolivia_2021_Luis_Arce.pdf', 'Bolivia_2022_Luis_Arce.pdf', 'Bolivia_2023_Luis_Arce.pdf', 'Chile_2019_Sebastián_Piñera.pdf', 'Chile_2021_Sebastián_Piñera.pdf', 'Chile_2022_Gabriel_Boric.pdf', 'Colombia_2002_Andres_Pastrana.pdf', 'Colombia_2010_Alvaro_Uribe.pdf', 'Colombia_2019_Ivan_Duque.pdf', 'Colombia_2021_Ivan_Duque.pdf', 'Colombia_2022_Gustavo_Petro.pdf', 'Ecuador_2023_Daniel_Noboa.pdf', 'Paraguay_2018_Mario_Benítez.pdf', 'Peru_1990_Alberto_Fujimori.pdf', 'Peru_1991_Alberto_Fujimori.pdf', 'Peru_1992_Alberto_Fujimori.pdf', 'Peru_1993_Alberto_Fujimori.pdf', 'Peru_1994_Alberto_Fujimori.pdf', 'Peru_1995_Alberto_Fujimori.pdf', 'Peru_2004_Alejandro_Toledo.pdf', 'Peru_2005_Alejandro_Toledo.pdf', 'Peru_2006_Alan_Garcia.pdf', 'Peru_2007_Alan_Garcia.pdf', 'Peru_2008_Alan_Garcia.pdf', 'Peru_2009_Alan_Garcia.pdf', 'Peru_2010_Alan_Garcia.pdf', 'Peru_2011_Ollanta_Humala.pdf', 'Peru_2012_Ollanta_Humala.pdf', 'Peru_2013_Ollanta_Humala.pdf', 'Peru_2014_Ollanta_Humala.pdf', 'Peru_2015_Ollanta_Humala.pdf', 'Peru_2016_Pedro_Kuczynski.pdf', 'Peru_2017_Pedro_Kuczynski.pdf', 'Peru_2019_Martin_Vizcarra.pdf', 'Peru_2020_Martin_Vizcarra.pdf', 'Peru_2021_Pedro_Castillo.pdf', 'Peru_2022_Pedro_Castillo.pdf', 'Peru_2023_Dina_Boluarte.pdf', 'Salvador_2016_Salvador_Sanchez.pdf', 'Salvador_2019_Nayib_Bukele.pdf', 'Uruguay_2000_Jorge_Battle.pdf', 'Uruguay_2005_Tabare_Vasquez.pdf', 'Uruguay_2010_Jose_Mujica.pdf', 'Uruguay_2015_Tabare_Vasquez.pdf', 'Uruguay_2020_Luis_LacallePou.pdf', 'Venezuela_1999_Hugo_Chavez.pdf', 'Venezuela_2015_Nicolas_Maduro.pdf', 'Venezuela_2019_Nicolas_Maduro.pdf', 'Venezuela_2020_Nicolas_Maduro.pdf', 'Venezuela_2022_Nicolas_Maduro.pdf']\n",
      "2024-01-28 22:15:12,178 - INFO - Downloaded files: ['Colombia_2014_JuanManuel_Santos.pdf', 'Colombia_2018_JuanManuel_Santos.pdf']\n",
      "2024-01-28 22:15:12,180 - INFO - Procesando archivos PDF y guardando textos...\n",
      "2024-01-28 22:15:12,182 - INFO - Existing text files skipped: ['Argentina_2022_Alberto_Fernandez.txt', 'Argentina_2023_Javier_Milei.txt', 'Bolivia_2017_Evo_Morales.txt', 'Bolivia_2018_Evo_Morales.txt', 'Bolivia_2019_Evo_Morales.txt', 'Bolivia_2020_Jeanine_Añez.txt', 'Bolivia_2021_Luis_Arce.txt', 'Bolivia_2022_Luis_Arce.txt', 'Bolivia_2023_Luis_Arce.txt', 'Chile_2019_Sebastián_Piñera.txt', 'Chile_2021_Sebastián_Piñera.txt', 'Chile_2022_Gabriel_Boric.txt', 'Colombia_2002_Andres_Pastrana.txt', 'Colombia_2010_Alvaro_Uribe.txt', 'Colombia_2014_JuanManuel_Santos.txt', 'Colombia_2018_JuanManuel_Santos.txt', 'Colombia_2019_Ivan_Duque.txt', 'Colombia_2021_Ivan_Duque.txt', 'Colombia_2022_Gustavo_Petro.txt', 'Ecuador_2023_Daniel_Noboa.txt', 'Paraguay_2018_Mario_Benítez.txt', 'Peru_1990_Alberto_Fujimori.txt', 'Peru_1991_Alberto_Fujimori.txt', 'Peru_1992_Alberto_Fujimori.txt', 'Peru_1993_Alberto_Fujimori.txt', 'Peru_1994_Alberto_Fujimori.txt', 'Peru_1995_Alberto_Fujimori.txt', 'Peru_2004_Alejandro_Toledo.txt', 'Peru_2005_Alejandro_Toledo.txt', 'Peru_2006_Alan_Garcia.txt', 'Peru_2007_Alan_Garcia.txt', 'Peru_2008_Alan_Garcia.txt', 'Peru_2009_Alan_Garcia.txt', 'Peru_2010_Alan_Garcia.txt', 'Peru_2011_Ollanta_Humala.txt', 'Peru_2012_Ollanta_Humala.txt', 'Peru_2013_Ollanta_Humala.txt', 'Peru_2014_Ollanta_Humala.txt', 'Peru_2015_Ollanta_Humala.txt', 'Peru_2016_Pedro_Kuczynski.txt', 'Peru_2017_Pedro_Kuczynski.txt', 'Peru_2019_Martin_Vizcarra.txt', 'Peru_2020_Martin_Vizcarra.txt', 'Peru_2021_Pedro_Castillo.txt', 'Peru_2022_Pedro_Castillo.txt', 'Peru_2023_Dina_Boluarte.txt', 'Salvador_2016_Salvador_Sanchez.txt', 'Salvador_2019_Nayib_Bukele.txt', 'Uruguay_2000_Jorge_Battle.txt', 'Uruguay_2005_Tabare_Vasquez.txt', 'Uruguay_2010_Jose_Mujica.txt', 'Uruguay_2015_Tabare_Vasquez.txt', 'Uruguay_2020_Luis_LacallePou.txt', 'Venezuela_1999_Hugo_Chavez.txt', 'Venezuela_2015_Nicolas_Maduro.txt', 'Venezuela_2019_Nicolas_Maduro.txt', 'Venezuela_2020_Nicolas_Maduro.txt', 'Venezuela_2022_Nicolas_Maduro.txt']\n",
      "2024-01-28 22:15:12,183 - INFO - Procesando discursos y guardando información en Excel...\n",
      "2024-01-28 22:15:12,322 - INFO - DataFrame guardado en d:\\TFM_Project\\PLN_Project\\data\\xlsx\\speech.xlsx\n"
     ]
    }
   ],
   "source": [
    "# notebooks/01_Download_Process_Speeches\n",
    "import os\n",
    "import sys\n",
    "import logging\n",
    "\n",
    "# Configuración del entorno del notebook\n",
    "notebook_dir = os.path.dirname(os.path.abspath(\"__file__\"))\n",
    "project_root = os.path.dirname(notebook_dir)\n",
    "\n",
    "# Añadir el directorio raíz del proyecto a sys.path para importaciones\n",
    "if project_root not in sys.path:\n",
    "    sys.path.insert(0, project_root)\n",
    "\n",
    "from initialize import set_global_logging\n",
    "from config import TEXT_DIRECTORY, XLSX_DIRECTORY, PDF_DIRECTORY\n",
    "from utils.file_utils import (\n",
    "    initialize_blob_client,\n",
    "    download_all_pdf_files_from_pdf_directory,\n",
    "    process_pdfs_in_directory_to_txt,\n",
    "    save_data_to_excel,\n",
    ")\n",
    "from utils.text_processing_utils import process_speeches\n",
    "\n",
    "# Configurar logging globalmente\n",
    "set_global_logging()\n",
    "\n",
    "\n",
    "# Proceso principal\n",
    "def main():\n",
    "    # Inicializar cliente de Azure Blob Storage\n",
    "    blob_client = initialize_blob_client()\n",
    "\n",
    "    # Descargar archivos PDF desde Azure Blob Storage\n",
    "    logging.info(\"Iniciando descarga de archivos PDF...\")\n",
    "    download_all_pdf_files_from_pdf_directory(blob_client)\n",
    "\n",
    "    # Procesar archivos PDF y guardar textos\n",
    "    logging.info(\"Procesando archivos PDF y guardando textos...\")\n",
    "    process_pdfs_in_directory_to_txt(PDF_DIRECTORY, TEXT_DIRECTORY)\n",
    "\n",
    "    # Procesar discursos y guardar la información en Excel\n",
    "    logging.info(\"Procesando discursos y guardando información en Excel...\")\n",
    "    speech_data = process_speeches(TEXT_DIRECTORY)\n",
    "    save_data_to_excel(speech_data, XLSX_DIRECTORY, \"speech.xlsx\")\n",
    "\n",
    "\n",
    "# Ejecutar el proceso principal\n",
    "if __name__ == \"__main__\":\n",
    "    main()"
   ]
  },
  {
   "cell_type": "code",
   "execution_count": null,
   "metadata": {},
   "outputs": [],
   "source": [
    "# Instalaciones requeridas\n",
    "# pip install azure-storage-blob"
   ]
  }
 ],
 "metadata": {
  "kernelspec": {
   "display_name": "venv",
   "language": "python",
   "name": "python3"
  },
  "language_info": {
   "codemirror_mode": {
    "name": "ipython",
    "version": 3
   },
   "file_extension": ".py",
   "mimetype": "text/x-python",
   "name": "python",
   "nbconvert_exporter": "python",
   "pygments_lexer": "ipython3",
   "version": "3.9.13"
  }
 },
 "nbformat": 4,
 "nbformat_minor": 2
}
