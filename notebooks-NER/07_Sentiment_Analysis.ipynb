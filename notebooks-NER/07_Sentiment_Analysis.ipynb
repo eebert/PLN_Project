{
 "cells": [
  {
   "cell_type": "code",
   "execution_count": 1,
   "metadata": {},
   "outputs": [
    {
     "name": "stderr",
     "output_type": "stream",
     "text": [
      "WARNING:root:Se encontró un valor no textual: nan\n",
      "WARNING:root:Se encontró un valor no textual: nan\n",
      "WARNING:root:Se encontró un valor no textual: nan\n",
      "WARNING:root:Se encontró un valor no textual: nan\n",
      "WARNING:root:Se encontró un valor no textual: nan\n",
      "WARNING:root:Se encontró un valor no textual: nan\n",
      "WARNING:root:Se encontró un valor no textual: nan\n"
     ]
    }
   ],
   "source": [
    "# notebooks/06_Sentiment_Analysis.ipynb\n",
    "import os\n",
    "import logging\n",
    "import sys\n",
    "import pandas as pd\n",
    "import torch\n",
    "\n",
    "notebook_dir = os.path.dirname(os.path.abspath(\"__file__\"))\n",
    "project_root = os.path.dirname(notebook_dir)\n",
    "if project_root not in sys.path:\n",
    "    sys.path.insert(0, project_root)\n",
    "\n",
    "from config import XLSX_DIRECTORY\n",
    "from transformers import AutoTokenizer, AutoModelForSequenceClassification\n",
    "from torch.nn.functional import softmax\n",
    "\n",
    "# Carga de modelos y tokenizers para el análisis de sentimiento\n",
    "beto_model_name = \"finiteautomata/beto-sentiment-analysis\"\n",
    "beto_tokenizer = AutoTokenizer.from_pretrained(beto_model_name)\n",
    "beto_model = AutoModelForSequenceClassification.from_pretrained(beto_model_name)\n",
    "\n",
    "\n",
    "# Cargar los datos desde el archivo Excel\n",
    "logging.info(\"Cargando datos de oraciones desde Excel para análisis de sentimientos...\")\n",
    "df = pd.read_excel(os.path.join(XLSX_DIRECTORY, \"sentence.xlsx\"))\n",
    "\n",
    "\n",
    "def analyze_sentiment(sentence, tokenizer, model):\n",
    "    if not isinstance(sentence, str):\n",
    "        logging.warning(f\"Se encontró un valor no textual: {sentence}\")\n",
    "        return None, None\n",
    "    inputs = tokenizer(sentence, return_tensors=\"pt\", max_length=512, truncation=True)\n",
    "    with torch.no_grad():\n",
    "        outputs = model(**inputs)\n",
    "    logits = outputs.logits.squeeze()\n",
    "    probs = softmax(logits, dim=0)\n",
    "    sentiment_score = round(probs.max().item(), 4)\n",
    "    sentiment_category = model.config.id2label[probs.argmax().item()]\n",
    "    return sentiment_score, sentiment_category\n",
    "\n",
    "\n",
    "def main():\n",
    "    # Cargar los datos desde el archivo Excel\n",
    "    sentence_data = pd.read_excel(os.path.join(XLSX_DIRECTORY, \"sentence.xlsx\"))\n",
    "\n",
    "    # Preparar DataFrame para los resultados del análisis de sentimientos\n",
    "    sentiment_df = pd.DataFrame(\n",
    "        columns=[\"id_sentiment\", \"id_sentence\", \"sentiment_score\", \"sentiment_category\"]\n",
    "    )\n",
    "\n",
    "    # Realizar análisis de sentimientos\n",
    "    logging.info(\"Realizando análisis de sentimientos...\")\n",
    "    for index, row in sentence_data.iterrows():\n",
    "        sentiment_score, sentiment_category = analyze_sentiment(\n",
    "            row[\"sentence_clean\"], beto_tokenizer, beto_model\n",
    "        )\n",
    "        if sentiment_score is not None and sentiment_category is not None:\n",
    "            sentiment_df.loc[index] = [\n",
    "                index + 1,\n",
    "                row[\"id_sentence\"],\n",
    "                sentiment_score,\n",
    "                sentiment_category,\n",
    "            ]\n",
    "\n",
    "    # Guardar los resultados del análisis de sentimientos en un nuevo archivo Excel\n",
    "    logging.info(\"Guardando resultados del análisis de sentimientos en Excel...\")\n",
    "    sentiment_df.to_excel(os.path.join(XLSX_DIRECTORY, \"sentiment.xlsx\"), index=False)\n",
    "\n",
    "\n",
    "if __name__ == \"__main__\":\n",
    "    main()"
   ]
  },
  {
   "cell_type": "code",
   "execution_count": null,
   "metadata": {},
   "outputs": [],
   "source": [
    "# pip install vaderSentiment"
   ]
  }
 ],
 "metadata": {
  "kernelspec": {
   "display_name": "venv",
   "language": "python",
   "name": "python3"
  },
  "language_info": {
   "codemirror_mode": {
    "name": "ipython",
    "version": 3
   },
   "file_extension": ".py",
   "mimetype": "text/x-python",
   "name": "python",
   "nbconvert_exporter": "python",
   "pygments_lexer": "ipython3",
   "version": "3.9.13"
  }
 },
 "nbformat": 4,
 "nbformat_minor": 2
}
