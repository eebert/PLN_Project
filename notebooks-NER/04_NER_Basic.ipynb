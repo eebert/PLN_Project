{
 "cells": [
  {
   "cell_type": "code",
   "execution_count": 1,
   "metadata": {},
   "outputs": [
    {
     "name": "stderr",
     "output_type": "stream",
     "text": [
      "2024-01-30 10:51:39,802 - INFO - Modelo spaCy 'es_core_news_lg' ya está instalado.\n",
      "2024-01-30 10:51:41,045 - INFO - Cargando datos de oraciones desde Excel...\n",
      "2024-01-30 10:51:42,178 - INFO - Realizando NER en las oraciones...\n",
      "2024-01-30 10:52:49,350 - INFO - Agrupando entidades similares...\n",
      "d:\\TFM_Project\\PLN_Project\\venv\\lib\\site-packages\\sklearn\\cluster\\_kmeans.py:1416: FutureWarning: The default value of `n_init` will change from 10 to 'auto' in 1.4. Set the value of `n_init` explicitly to suppress the warning\n",
      "  super()._check_params_vs_input(X, default_n_init=10)\n",
      "2024-01-30 10:52:49,944 - INFO - Guardando datos de entidades en Excel...\n",
      "2024-01-30 10:52:51,709 - INFO - DataFrame guardado en d:\\TFM_Project\\PLN_Project\\data-NER\\xlsx\\ner_entity.xlsx\n"
     ]
    }
   ],
   "source": [
    "# notebooks-04_NER_Basic\n",
    "import os\n",
    "import sys\n",
    "import logging\n",
    "import spacy\n",
    "\n",
    "# Configuración del entorno del notebook\n",
    "notebook_dir = os.path.dirname(os.path.abspath(\"__file__\"))\n",
    "project_root = os.path.dirname(notebook_dir)\n",
    "if project_root not in sys.path:\n",
    "    sys.path.insert(0, project_root)\n",
    "\n",
    "from initialize import check_and_download_spacy_model\n",
    "from config import XLSX_DIRECTORY\n",
    "from utils.file_utils import read_excel_file, save_data_to_excel\n",
    "from utils.ner_utils import cluster_entities\n",
    "from utils.advanced_ner_utils import perform_ner_basic\n",
    "\n",
    "\n",
    "# Cargar el modelo de spaCy\n",
    "check_and_download_spacy_model(\"es_core_news_lg\")\n",
    "model = spacy.load(\"es_core_news_lg\")\n",
    "\n",
    "\n",
    "def main():\n",
    "    # Cargar los datos de las oraciones desde el archivo Excel\n",
    "    logging.info(\"Cargando datos de oraciones desde Excel...\")\n",
    "    sentence_data = read_excel_file(os.path.join(XLSX_DIRECTORY, \"sentence.xlsx\"))\n",
    "\n",
    "    # Realizar NER y obtener entidades\n",
    "    logging.info(\"Realizando NER en las oraciones...\")\n",
    "    entity_data = perform_ner_basic(sentence_data, model)\n",
    "\n",
    "    # Agrupar entidades similares con K-means\n",
    "    logging.info(\"Agrupando entidades similares...\")\n",
    "    entity_data = cluster_entities(entity_data)\n",
    "\n",
    "    # Guardar los datos de entidades en un nuevo archivo Excel\n",
    "    logging.info(\"Guardando datos de entidades en Excel...\")\n",
    "    save_data_to_excel(entity_data, XLSX_DIRECTORY, \"ner_entity.xlsx\")\n",
    "\n",
    "\n",
    "# Ejecutar el proceso principal\n",
    "if __name__ == \"__main__\":\n",
    "    main()"
   ]
  },
  {
   "cell_type": "code",
   "execution_count": null,
   "metadata": {},
   "outputs": [],
   "source": [
    "# pip install --upgrade notebook ipywidgets\n",
    "# jupyter nbextension enable --py widgetsnbextension"
   ]
  }
 ],
 "metadata": {
  "kernelspec": {
   "display_name": "venv",
   "language": "python",
   "name": "python3"
  },
  "language_info": {
   "codemirror_mode": {
    "name": "ipython",
    "version": 3
   },
   "file_extension": ".py",
   "mimetype": "text/x-python",
   "name": "python",
   "nbconvert_exporter": "python",
   "pygments_lexer": "ipython3",
   "version": "3.9.13"
  }
 },
 "nbformat": 4,
 "nbformat_minor": 2
}
